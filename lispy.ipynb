{
 "cells": [
  {
   "cell_type": "markdown",
   "id": "a7fde3de",
   "metadata": {},
   "source": [
    "# O *lis.py* de Norvig\n",
    "\n",
    "\n",
    "![Norvig's lispy](lispy.png)"
   ]
  },
  {
   "cell_type": "markdown",
   "id": "d33cfb31",
   "metadata": {},
   "source": [
    "## Contents:\n",
    "\n",
    "* [Introdução](#Introdução)\n",
    "* [Sintaxe de Scheme](#Sintaxe-de-Scheme)\n",
    "* [Imports e tipos](#Imports-e-tipos)\n",
    "* [O parser](#O-parser)\n",
    "  * [Exercício 0](#Exercício-0)\n",
    "* [Ambiente básico para aritmética](#Ambiente-básico-para-aritmética)\n",
    "* [Uma calculadora](#Uma-calculadora)\n",
    "* [Execução não-interativa](#Execução-não-interativa)\n",
    "  * [Exercício 1](#Exercício-1)\n",
    "  * [Exercício 2](#Exercício-2)\n",
    "  * [Exercício 3](#Exercício-3)\n",
    "* [User defined procedures](#User-defined-procedures)\n",
    "* [Um ambiente mais completo](#Um-ambiente-mais-completo)\n",
    "* [`Procedure`: uma classe que representa uma _closure_](#Procedure:-uma-classe-que-representa-uma-closure)\n",
    "* [Avaliador com `lambda`, `if` e `quote`](#Avaliador-com-lambda,-if-e-quote)\n",
    "* [O REPL](#O-REPL)\n",
    "* [Exemplos](#Exemplos)\n",
    "* [Açúcar Sintático](#Açúcar-Sintático)\n",
    "  * [Exercício para casa](#Exercício-para-casa)\n",
    "\n",
    "> **LICENÇAS**:<br>\n",
    "  Código © 2010-2018 Peter Norvig, [MIT License](https://github.com/fluentpython/lispy/blob/main/LICENSE)<br>\n",
    "  Texto © 2022 Luciano Ramalho, [Creative Commons Attribution 4.0 International](https://creativecommons.org/licenses/by/4.0/)\n"
   ]
  },
  {
   "cell_type": "markdown",
   "id": "e58deb5f-b75b-4e26-9d2a-067c4f1fd8b5",
   "metadata": {},
   "source": [
    "## Introdução\n",
    "\n",
    "[Peter Norvig](https://norvig.com/) da universidade Stanford criou\n",
    "[*lis.py*](https://github.com/norvig/pytudes/blob/main/py/lis.py):\n",
    "um interpretador em 132 linhas de código Python legível,\n",
    "para parte da linguagem Scheme—um dialeto de Lisp.\n",
    "\n",
    "Porque você deveria estudar *lis.py*?\n",
    "Para mim esses foram alguns motivos:\n",
    "\n",
    "* Depois de estudar como funciona um interpretador,\n",
    "entendi mais precisamente como funciona Python e linguagens em geral—interpretadas ou compiladas.\n",
    "\n",
    "* A simplicidade de Scheme é uma aula magna de design de linguagens.\n",
    "\n",
    "* *lis.py* é um ótimo exemplo de código Python idiomático.\n",
    "\n",
    "Norvig descreve *lis.py* em um texto intitulado\n",
    "[(How to Write a (Lisp) Interpreter (in Python))](https://norvig.com/lispy.html).\n",
    "Leitura recomendada!\n",
    "\n",
    "Antes de examinar o código do interpretador em Python,\n",
    "vamos ver um pouco de Scheme—caso você nunca tenha visto essa linguagem ou Lisp antes.\n"
   ]
  },
  {
   "cell_type": "markdown",
   "id": "a6dcd908-c334-47c5-8fd9-58b32ecbd3d1",
   "metadata": {},
   "source": [
    "## Mágica para executar lis.py em células\n",
    "\n",
    "O comando \"mágico\" `%%script ./lis.py` executa o conteúdo da célula com o interpretador `lis.py` que está no mesmo diretório deste notebook.\n",
    "\n",
    "Veremos o código por trás desse comando mágico mais tarde.\n",
    "\n",
    "> **DICA:** Clique na célula abaixo para selecioná-la e então tecle\n",
    " `【SHIFT】【ENTER】` para executá-la e selecionar a próxima célula.<br>"
   ]
  },
  {
   "cell_type": "code",
   "execution_count": null,
   "id": "07412f43-ebef-4677-b23f-56a78f283992",
   "metadata": {},
   "outputs": [],
   "source": [
    "!git clone https://github.com/ramalho/lispyse24.git\n",
    "!cp lispyse24/*.py ."
   ]
  },
  {
   "cell_type": "code",
   "execution_count": null,
   "id": "14d532ac-f8db-4e54-ad2f-c45a2b708b8c",
   "metadata": {},
   "outputs": [],
   "source": [
    "%%script ./lis.py\n",
    "\n",
    "(* 6 7)"
   ]
  },
  {
   "cell_type": "markdown",
   "id": "c1b28ee8",
   "metadata": {},
   "source": [
    "## Sintaxe de Scheme\n",
    "\n",
    "Todo código Scheme é formado por expressões.\n",
    "Não existem operadores infixos:\n",
    "todas as expressões usam notação prefixa como\n",
    "`(+ x 13)` em vez de `x + 13`.\n",
    "\n",
    "A mesma notação prefixa é usada para chamadas de funções—ex. `(mdc x 13)`—e\n",
    "instruções especiais—ex. `(define x 13)`, que corresponde à\n",
    "instrução de atribuição em Python: `x = 13`.\n",
    "\n",
    "Essa notação prefixa com parêntesis é chamada _S-expression_ ou _expressão-S_.\n",
    "É a mesma notação usada em Lisp e outros dialetos, como Clojure.\n",
    "\n",
    "Eis um exemplo simples em Scheme, para calcular o MDC (Máximo Divisor Comum):"
   ]
  },
  {
   "cell_type": "code",
   "execution_count": null,
   "id": "ba5d43fe-476e-4e36-ac28-01e7f3c58f08",
   "metadata": {},
   "outputs": [],
   "source": [
    "%%script ./lis.py\n",
    "\n",
    "(define (resto m n)\n",
    "    (- m (* n (quotient m n))))\n",
    "\n",
    "(define (mdc m n)\n",
    "    (if (= n 0)\n",
    "        m\n",
    "        (mdc n (resto m n))))\n",
    "\n",
    "(mdc 18 45)\n"
   ]
  },
  {
   "cell_type": "markdown",
   "id": "56d3194f",
   "metadata": {},
   "source": [
    "O mesmo algoritmo em Python:"
   ]
  },
  {
   "cell_type": "code",
   "execution_count": null,
   "id": "0a72ddbc",
   "metadata": {},
   "outputs": [],
   "source": [
    "def resto(m, n):\n",
    "    return m - (m // n * n)\n",
    "\n",
    "def mdc(m, n):\n",
    "    if n == 0:\n",
    "        return m\n",
    "    else:\n",
    "        return mdc(n, resto(m, n))\n",
    "\n",
    "mdc(18, 45)"
   ]
  },
  {
   "cell_type": "markdown",
   "id": "601d22b8",
   "metadata": {},
   "source": [
    "Assim como temos o operador `%` em Python, Scheme tem a função `modulo`.\n",
    "Implementei `resto` apenas para mostrar duas definições de funções.\n",
    "\n",
    "Em Python é mais eficiente usar um laço `while` do que recursão,\n",
    "mas eu queria que os exemplos ficassem parecidos para\n",
    "ajudar você a entender o código em Scheme.\n",
    "Scheme não tem estruturas de laço como `while` ou `for`.\n",
    "Para repetir operações, usa-se recursão.\n",
    "\n",
    "Note como não há atribuições de variáveis nos exemplos em Scheme e Python acima.\n",
    "Muita recursão e pouca atribuição\n",
    "são características de programação em um estilo funcional.\n",
    "\n",
    "O código completo de *lis.py* para Python 3.10 incluindo testes você pode encontrar no diretório\n",
    "[18-with-match/lispy/py3.10/](https://github.com/fluentpython/example-code-2e/tree/master/18-with-match/lispy/py3.10/)\n",
    "do repositório [fluentpython/example-code-2e](https://github.com/fluentpython/example-code-2e).\n",
    "\n",
    "O código abaixo apenas confirma a versão do interpretador que está executando este Jupyter Notebook."
   ]
  },
  {
   "cell_type": "code",
   "execution_count": null,
   "id": "b0a5807a",
   "metadata": {
    "lines_to_next_cell": 2
   },
   "outputs": [],
   "source": [
    "import sys\n",
    "ver, sub = (3, 10)\n",
    "assert sys.version_info >= (ver, sub), f'Necessário Python ≥ {ver}.{sub}; instalado: {sys.version}'\n",
    "sys.version"
   ]
  },
  {
   "cell_type": "markdown",
   "id": "c96e3d27",
   "metadata": {
    "lines_to_next_cell": 2,
    "tags": []
   },
   "source": [
    "## Imports e tipos\n",
    "\n",
    "O código escrito pelo Norvig não usa anotações de tipo. Adicionei as anotações e fiz mais algumas pequenas mudanças."
   ]
  },
  {
   "cell_type": "code",
   "execution_count": null,
   "id": "5dc689c2",
   "metadata": {},
   "outputs": [],
   "source": [
    "################ lis.py: Scheme Interpreter in Python\n",
    "## (c) Peter Norvig, 2010-18; See http://norvig.com/lispy.html\n",
    "## Type hints and minor additions by Luciano Ramalho\n",
    "\n",
    "import math\n",
    "import operator as op\n",
    "from collections import ChainMap\n",
    "from itertools import chain\n",
    "from typing import Any, NoReturn, TypeAlias\n",
    "from collections import abc\n",
    "\n",
    "Symbol: TypeAlias = str\n",
    "Atom = float | int| Symbol\n",
    "Expression = Atom | list\n",
    "\n",
    "Environment = abc.MutableMapping[Symbol, object]"
   ]
  },
  {
   "cell_type": "markdown",
   "id": "aca900ab",
   "metadata": {},
   "source": [
    "Os tipos são definidos são:\n",
    "\n",
    "`Symbol`: Apenas um apelido para o tipo `str`.\n",
    "Instâncias de `Symbol` são usadas como identificadores.\n",
    "Nessa versão básica _lis.py_ não há um tipo de dado string com operaçoẽs como\n",
    "fatiamento, particionamento (split), conversão de maiúsculas para minúsculas, etc.\n",
    "\n",
    "`Atom`: Elemento sintático simples: um número ou um `Symbol`.\n",
    "Um átomo é o contrário de uma estrutura composta de diversas partes como uma lista.\n",
    "\n",
    "`Expression`: Programas em Scheme são formados por expressões feitas com átomos e listas, possivelmente aninhadas.\n",
    "\n",
    "> **NOTA**: O outro interpretador escrito por Norvig,\n",
    "[*lispy.py*](https://github.com/fluentpython/example-code-2e/blob/master/18-with-match/lispy/original/lispy.py),\n",
    "suporta string como um tipo de dado, assim como também aceita funcionalidades avançadas como macros de sintaxe,\n",
    "chamadas de cauda eficientes e _continuations_.\n",
    "No entanto, *lispy.py* é quase três vezes mais longo do que *lis.py*, e mais difícil de entender."
   ]
  },
  {
   "cell_type": "markdown",
   "id": "860fa295",
   "metadata": {},
   "source": [
    "## O parser\n",
    "\n",
    "O parser de Norvig são 36 linhas de código que demonstram o poder de Python\n",
    "aplicado ao tratamento da sintaxes recursivas de expressões-S."
   ]
  },
  {
   "cell_type": "code",
   "execution_count": null,
   "id": "9168269d",
   "metadata": {},
   "outputs": [],
   "source": [
    "def parse(program: str) -> Expression:\n",
    "    \"Read a Scheme expression from a string.\"\n",
    "    return read_from_tokens(tokenize(program))\n",
    "\n",
    "def tokenize(s: str) -> list[str]:\n",
    "    \"Convert a string into a list of tokens.\"\n",
    "    return s.replace('(', ' ( ').replace(')', ' ) ').split()\n",
    "\n",
    "def read_from_tokens(tokens: list[str]) -> Expression:\n",
    "    \"Read an expression from a sequence of tokens.\"\n",
    "    if len(tokens) == 0:\n",
    "        raise SyntaxError('unexpected EOF while reading')\n",
    "    token = tokens.pop(0)\n",
    "    if '(' == token:\n",
    "        exp = []\n",
    "        while tokens[0] != ')':\n",
    "            exp.append(read_from_tokens(tokens))\n",
    "        tokens.pop(0)  # discard ')'\n",
    "        return exp\n",
    "    elif ')' == token:\n",
    "        raise SyntaxError('unexpected )')\n",
    "    else:\n",
    "        return parse_atom(token)\n",
    "\n",
    "def parse_atom(token: str) -> Atom:\n",
    "    \"Numbers become numbers; every other token is a symbol.\"\n",
    "    try:\n",
    "        return int(token)\n",
    "    except ValueError:\n",
    "        try:\n",
    "            return float(token)\n",
    "        except ValueError:\n",
    "            return Symbol(token)"
   ]
  },
  {
   "cell_type": "markdown",
   "id": "949b6a45",
   "metadata": {},
   "source": [
    "A função principal desse grupo é `parse`, que toma o código-fonte de uma expressão-S como uma `str`\n",
    "e devolve um objeto `Expression`: um `Atom` ou `list` que pode conter mais átomos e listas aninhadas.\n",
    "\n",
    "O primeiro estágio de um parser é a análise léxica:\n",
    "identificar e separar as \"palavras\" da linguagem,\n",
    "conhecidas tecnicamente como _tokens_ ou _itens léxicos_.\n",
    "Isso é feito pela função `tokenize`.\n",
    "\n",
    "Norvig usa um truque esperto em `tokenize`:\n",
    "ele coloca espaços antes e depois de cada parênteses no código-fonte, e depois quebra com `.split()`,\n",
    "resultando em uma lista de tokens com `(` e `)`\n",
    "como itens distintos. Por exemplo, `(f 1)` é transformada em uma lista com quatro itens: `['(', 'f', '1', ')']`.\n",
    "\n",
    "Esse truque funciona porque o dialeto Scheme simplificado de *lis.py*\n",
    "não tem um tipo string, cometários, macros,\n",
    "e outros recursos de Scheme padrão que complicam a análise léxica.\n",
    "Com essa simplificação, sabemos que todo `(` ou `)` é um delimitador de expressão em *lis.py*.\n",
    "(Norvig implementou esses recursos em *lispy.py*.)\n",
    "\n",
    "O resultado da análise léxica alimenta a análise sintática em `read_from_tokens`,\n",
    "que recebe uma lista de itens léxicos e devolve uma `Expression`.\n",
    "\n",
    "A regras de análise sintática (_parsing_) para esse subconjunto do Scheme são simples:\n",
    "\n",
    "1. Um token que se parece com um número é convertido em `float` ou `int`.\n",
    "2. Qualquer outra coisa que não for `(` ou `)` é entendida como `Symbol`—uma `str` a ser usada como identificador.\n",
    "Isso inclui código fonte como `+`, `set!` e `make-counter` que são identificadores válidos em Scheme mas não em Python.\n",
    "3. Expressões dentro de `(` e `)` são recursivamente parseadas como\n",
    "listas contendo atoms ou listas aninhadas que podem conter atoms e mais listas aninhadas.\n",
    "\n",
    "Em uma primeira leitura, vale a pena considerar `read_from_tokens` como uma caixa preta,\n",
    "e se concentrar na função de alto nível `parse`. Veja alguns exemplos com `parse`:\n",
    "\n",
    "> **DICA**: Para executar o código em cada uma das células e selecionar a próxima, use `【SHIFT】【ENTER】`.<br>\n",
    "Se acontecer `NameError: name 'parse' is not defined`,\n",
    "use o comando ***Cell > Run All Above*** do menu para executar as células acima,\n",
    "incluindo aquela onde está a definição da função `parse`."
   ]
  },
  {
   "cell_type": "code",
   "execution_count": null,
   "id": "dc968689",
   "metadata": {},
   "outputs": [],
   "source": [
    "parse('1.5')"
   ]
  },
  {
   "cell_type": "code",
   "execution_count": null,
   "id": "dabce4ac",
   "metadata": {},
   "outputs": [],
   "source": [
    "parse('ni!')"
   ]
  },
  {
   "cell_type": "code",
   "execution_count": null,
   "id": "870b065b",
   "metadata": {},
   "outputs": [],
   "source": [
    "parse('''\n",
    "  (define double\n",
    "    (lambda (n)\n",
    "      (* n 2)))\n",
    "''')"
   ]
  },
  {
   "cell_type": "markdown",
   "id": "eba0d551",
   "metadata": {},
   "source": [
    "Usando a terminologia de teoria de linguagens de programação\n",
    "o objeto `Expression` produzido por `parse` é uma\n",
    "**AST** (*Abstract Syntax Tree* ou *Árvore Sintática Abstrata*):\n",
    "uma representação conveniente do programa Scheme na forma de\n",
    "objetos Python aninhados formando uma estrutura em de árvore,\n",
    "onde a lista mais externa é o tronco, as listas internas são ramos e os átomos são folhas.\n",
    "\n",
    "Veja a AST do exemplo `(define double (lambda (n) (* n 2)))` como um diagrama em árvore:\n",
    "\n",
    "```\n",
    "                              '*'  'n'   2\n",
    "                        'n'    └────┼────┘\n",
    "                         │          │\n",
    "           'lambda'     [ ]        [ ]\n",
    "               └─────────┼──────────┘\n",
    "                         │\n",
    "'define'   'double'     [ ]\n",
    "    └─────────┼──────────┘\n",
    "              │\n",
    "             [ ]\n",
    "```\n",
    "\n",
    "A árvore acima corresponde à AST `['define', 'double', ['lambda', ['n'], ['*', 'n', 2]]]`.<br>\n",
    "Note que todos os elementos da AST são objetos da linguagem Python.\n",
    "\n",
    "### Exercício 0\n",
    "\n",
    "Substitua as reticências `...` com a AST correspondente à cada expressão-S, para obter o resultado `True`.\n",
    "Para rodar o código na célula, tecle `【CTRL】【ENTER】`."
   ]
  },
  {
   "cell_type": "code",
   "execution_count": null,
   "id": "593293e4",
   "metadata": {},
   "outputs": [],
   "source": [
    "parse('9') == ..."
   ]
  },
  {
   "cell_type": "code",
   "execution_count": null,
   "id": "14282f34",
   "metadata": {},
   "outputs": [],
   "source": [
    "parse('x/y') == ..."
   ]
  },
  {
   "cell_type": "code",
   "execution_count": null,
   "id": "d31ee5a9",
   "metadata": {},
   "outputs": [],
   "source": [
    "parse('(+ 3 7)') == ..."
   ]
  },
  {
   "cell_type": "code",
   "execution_count": null,
   "id": "c785b8ad",
   "metadata": {},
   "outputs": [],
   "source": [
    "parse('(* c (/ 9 5))') == ..."
   ]
  },
  {
   "cell_type": "code",
   "execution_count": null,
   "id": "a71e0b8c",
   "metadata": {},
   "outputs": [],
   "source": [
    "parse('(+ 32 (* (/ 9 5) c ))') == ..."
   ]
  },
  {
   "cell_type": "markdown",
   "id": "ec7f8ca9",
   "metadata": {},
   "source": [
    "## Ambiente básico para aritmética\n",
    "\n",
    "Qualquer linguagem útil precisa fornecer funções pré-definidas, prontas para usar, como\n",
    "o módulo `__builtins__` de Python.\n",
    "\n",
    "Em *lis.py*, a função `standard_env()` constrói e devolve um `Environment` carregado\n",
    "com funções pré-definidas.\n",
    "Por enquanto usaremos uma versão simplificada, adepois colocaremos mais funções."
   ]
  },
  {
   "cell_type": "code",
   "execution_count": null,
   "id": "e360952f",
   "metadata": {},
   "outputs": [],
   "source": [
    "def standard_env() -> Environment:\n",
    "    \"An environment for an s-expression calculator.\"\n",
    "    env: Environment = {}\n",
    "    env.update(vars(math))   # sin, cos, sqrt, pi, ...\n",
    "    env.update(\n",
    "        {\n",
    "            '+': op.add,\n",
    "            '-': op.sub,\n",
    "            '*': op.mul,\n",
    "            '/': op.truediv,\n",
    "            'quotient': op.floordiv,\n",
    "            '>': op.gt,\n",
    "            '<': op.lt,\n",
    "            '>=': op.ge,\n",
    "            '<=': op.le,\n",
    "            '=': op.eq,\n",
    "            'abs': abs,\n",
    "            'begin': lambda *x: x[-1],\n",
    "            'eq?': op.is_,\n",
    "            'equal?': op.eq,\n",
    "            'max': max,\n",
    "            'min': min,\n",
    "            'not': op.not_,\n",
    "            'number?': lambda x: isinstance(x, (int, float)),\n",
    "            'procedure?': callable,\n",
    "            'modulo': op.mod,\n",
    "            'round': round,\n",
    "            'symbol?': lambda x: isinstance(x, Symbol),\n",
    "        }\n",
    "    )\n",
    "    return env"
   ]
  },
  {
   "cell_type": "markdown",
   "id": "d40e216f",
   "metadata": {},
   "source": [
    "O mapeamento `env` é carregado com:\n",
    "\n",
    "* todas as funções do módulo `math` do Python;\n",
    "* operadores selecionados do módulo `op` do Python;\n",
    "* simples mas poderosas funções construídas com `lambda` do Python;\n",
    "* built-ins do Python renomeados, por exemplo `callable` como `procedure?` ou diretamente mapeados como `round`."
   ]
  },
  {
   "cell_type": "markdown",
   "id": "51842c61",
   "metadata": {},
   "source": [
    "## Uma calculadora\n",
    "\n",
    "A primeira versão da função `evaluate` trata expressões com funções embutidas e váriavies definidas pela usuária.\n",
    "\n",
    "> **NOTA**: o parser de Norvig é simples e sólido, mas seu avaliador é simples e frágil. Ele omitiu a verificação de erros para manter a lógica simples de ser acompanhada. Nas palavras dele: \"Lispy não tenta detectar, reportar razoavelmente, ou se recuperar de erros. Lispy espera que o programador seja perfeito.\" ([fonte](https://norvig.com/lispy.html))."
   ]
  },
  {
   "cell_type": "code",
   "execution_count": null,
   "id": "02345961",
   "metadata": {},
   "outputs": [],
   "source": [
    "def evaluate(exp: Expression, env: Environment) -> Any:\n",
    "    \"Evaluate an expression in an environment.\"\n",
    "    match exp:\n",
    "        case Symbol(name):                                  # variable reference\n",
    "            return env[name]\n",
    "        case int(x) | float(x):                             # number literal\n",
    "            return x\n",
    "        case ['define', Symbol(var), value_exp]:            # (define var exp)\n",
    "            env[var] = evaluate(value_exp, env)\n",
    "        case [Symbol(name), *args]:                         # (proc arg...)\n",
    "            proc = env[name]\n",
    "            values = (evaluate(arg, env) for arg in args)\n",
    "            return proc(*values)\n",
    "        case _:\n",
    "            raise SyntaxError(lispstr(exp))"
   ]
  },
  {
   "cell_type": "markdown",
   "id": "870e7230",
   "metadata": {},
   "source": [
    "Execute esses exemplos para ver o `evaluate` em ação.\n",
    "\n",
    "Um quadrado curioso:"
   ]
  },
  {
   "cell_type": "code",
   "execution_count": null,
   "id": "d0d9d292",
   "metadata": {},
   "outputs": [],
   "source": [
    "evaluate(parse('(* 11111 11111)'), standard_env())"
   ]
  },
  {
   "cell_type": "markdown",
   "id": "f95866d9",
   "metadata": {},
   "source": [
    "Se existem 700 candidatas e 294 foram aprovadas, que porcentagem foi aprovada?"
   ]
  },
  {
   "cell_type": "code",
   "execution_count": null,
   "id": "b2aa7bd7",
   "metadata": {},
   "outputs": [],
   "source": [
    "evaluate(parse('(* (/ 294 700) 100)'), standard_env())"
   ]
  },
  {
   "cell_type": "markdown",
   "id": "546e2a93",
   "metadata": {},
   "source": [
    "Agora vamos estudar cada `case` do `match` em `evaluate`."
   ]
  },
  {
   "cell_type": "markdown",
   "id": "9bf4c6f6",
   "metadata": {},
   "source": [
    "### Avaliar símbolo\n",
    "\n",
    "```python\n",
    "        case Symbol(name):                                  # variable reference\n",
    "            return env[name]\n",
    "```\n",
    "\n",
    "Se a expressão é um `Symbol`, então obtenha seu valor no ambiente."
   ]
  },
  {
   "cell_type": "code",
   "execution_count": null,
   "id": "f8633989",
   "metadata": {},
   "outputs": [],
   "source": [
    "evaluate('pi', standard_env())"
   ]
  },
  {
   "cell_type": "code",
   "execution_count": null,
   "id": "c6cbae55",
   "metadata": {},
   "outputs": [],
   "source": [
    "evaluate('+', standard_env())"
   ]
  },
  {
   "cell_type": "markdown",
   "id": "6200f116",
   "metadata": {},
   "source": [
    "### Avaliar números\n",
    "\n",
    "```python\n",
    "        case int(x) | float(x):                             # number literal\n",
    "            return x\n",
    "```\n",
    "\n",
    "Se a expressão é um literal `int` ou `float`, devolva o valor do literal."
   ]
  },
  {
   "cell_type": "code",
   "execution_count": null,
   "id": "9831ab20",
   "metadata": {},
   "outputs": [],
   "source": [
    "evaluate(1.5, standard_env())"
   ]
  },
  {
   "cell_type": "markdown",
   "id": "5825871c",
   "metadata": {},
   "source": [
    "### Evaluate `(define var exp)`\n",
    "\n",
    "```python\n",
    "        case ['define', Symbol(var), value_exp]:            # (define var exp)\n",
    "            env[var] = evaluate(value_exp, env)\n",
    "```\n",
    "\n",
    "Se a expressão é uma lista de três elementos começando com a palavra reservada `define`,\n",
    "seguida por um `Symbol` e uma `Expression`,\n",
    "então avalie recursivamente a expressão no ambiente e\n",
    "armazene o resultado em `env` usando o `Symbol` como chave."
   ]
  },
  {
   "cell_type": "code",
   "execution_count": null,
   "id": "6573b804",
   "metadata": {},
   "outputs": [],
   "source": [
    "env = standard_env()\n",
    "evaluate(parse('(define answer (/ 378 9))'), env)\n",
    "env['answer']"
   ]
  },
  {
   "cell_type": "markdown",
   "id": "847ea188",
   "metadata": {},
   "source": [
    "### Avaliar chamada de função `(proc arg…)`\n",
    "\n",
    "```python\n",
    "        case [Symbol(name), *args]:                         # (proc arg...)\n",
    "            proc = env[name]\n",
    "            values = (evaluate(arg, env) for arg in args)\n",
    "            return proc(*values)\n",
    "```\n",
    "\n",
    "Se a expressão é uma `list` começando com um `Symbol`, seguida de 0 ou mais itens:\n",
    "\n",
    "1. Obtenha a função no ambiente. Em Scheme, funções são chamadas \"procedures\", daí `proc`.\n",
    "2. Avalie as expressões restantes (os valores dos argumentos).\n",
    "3. Invoque o procedimento passando os valores dos argumentos.\n",
    "\n",
    "> **NOTA**: quando implementarmos `lambda`, o primeiro item desse caso poderá ser qualquer expressão que devolva uma função, e não apenas um `Symbol`."
   ]
  },
  {
   "cell_type": "code",
   "execution_count": null,
   "id": "1e584942",
   "metadata": {},
   "outputs": [],
   "source": [
    "evaluate(['quotient', 11, 4], standard_env())"
   ]
  },
  {
   "cell_type": "code",
   "execution_count": null,
   "id": "3e4bfa25",
   "metadata": {},
   "outputs": [],
   "source": [
    "evaluate(['*', ['/', 123, 876], 100], standard_env())"
   ]
  },
  {
   "cell_type": "markdown",
   "id": "11ba5323",
   "metadata": {},
   "source": [
    "`evaluate()` consegue processar expressões profundamentes aninhadas, mas somente uma expressão no nível mais alto.\n",
    "Para agrupar várias expressões, use a função `(begin...)`.\n",
    "A função `evaluate()` avalia todos os argumentos antes de invocar `begin`, e `begin` simplesmente devolve o valor do último argumento passado.\n",
    "Por exemplo:"
   ]
  },
  {
   "cell_type": "code",
   "execution_count": null,
   "id": "589591d9",
   "metadata": {},
   "outputs": [],
   "source": [
    "env = standard_env()\n",
    "percent = \"\"\"\n",
    "(begin\n",
    "  (define a 126)\n",
    "  (define b (* 6 50))\n",
    "  (* (/ a b) 100)\n",
    ")\n",
    "\"\"\"\n",
    "evaluate(parse(percent), env)"
   ]
  },
  {
   "cell_type": "markdown",
   "id": "94067a13",
   "metadata": {},
   "source": [
    "Após rodar o código acima, as variáveis `a` e `b` agora estão definidas no ambiente `env`:"
   ]
  },
  {
   "cell_type": "code",
   "execution_count": null,
   "id": "db658793",
   "metadata": {},
   "outputs": [],
   "source": [
    "env['a'], env['b']"
   ]
  },
  {
   "cell_type": "markdown",
   "id": "6e14a04e",
   "metadata": {},
   "source": [
    "Para avaliar um programa inteiro, use a função `run()`, descrita a seguir."
   ]
  },
  {
   "cell_type": "markdown",
   "id": "8b53e34e",
   "metadata": {},
   "source": [
    "## Execução de programas formados por várias expressões-S\n",
    "\n",
    "As funções a seguir aceitam o código fonte de um programa em Scheme\n",
    "como uma string formada por uma sequência de expressões-S, e as executam em ordem."
   ]
  },
  {
   "cell_type": "code",
   "execution_count": null,
   "id": "a370d8e8",
   "metadata": {},
   "outputs": [],
   "source": [
    "def run_lines(source: str, env: Environment|None = None) -> abc.Iterator:\n",
    "    global_env: Environment = ChainMap({}, standard_env())\n",
    "    if env is not None:\n",
    "        global_env.update(env)\n",
    "    tokens = tokenize(source)\n",
    "    while tokens:\n",
    "        exp = read_from_tokens(tokens)\n",
    "        yield evaluate(exp, global_env)\n",
    "\n",
    "\n",
    "def run(source: str, env: Environment|None = None) -> Any:\n",
    "    result = None\n",
    "    for result in run_lines(source, env):\n",
    "        pass\n",
    "    return result"
   ]
  },
  {
   "cell_type": "markdown",
   "id": "242bba31",
   "metadata": {},
   "source": [
    "Com `run()` não precisamos de `(begin …)` para avaliar múltiplas expressões de uma vez só.\n",
    "\n",
    "Mas `begin` ainda é necessário para definir funções \"impuras\" que podem conter múltiplas expressões."
   ]
  },
  {
   "cell_type": "code",
   "execution_count": null,
   "id": "8170d692",
   "metadata": {},
   "outputs": [],
   "source": [
    "porcento = \"\"\"\n",
    "(define a 126)\n",
    "(define b (* 6 50))\n",
    "(* (/ a b) 100)\n",
    "\"\"\"\n",
    "run(porcento)"
   ]
  },
  {
   "cell_type": "markdown",
   "id": "88a13ef5-5cad-4a8e-b6f7-28a5f7ce59b6",
   "metadata": {},
   "source": [
    "## Integração com Jupyter Notebook"
   ]
  },
  {
   "cell_type": "code",
   "execution_count": null,
   "id": "ab83c0c1-6a01-4561-8da1-c4018c3f2d37",
   "metadata": {},
   "outputs": [],
   "source": [
    "import sys\n",
    "\n",
    "from IPython.core.magic import register_cell_magic\n",
    "\n",
    "@register_cell_magic\n",
    "def lispy(line, cell):\n",
    "    \"\"\"Evaluate cell.\"\"\"\n",
    "    return run(cell)"
   ]
  },
  {
   "cell_type": "code",
   "execution_count": null,
   "id": "80a9aa4d-c4bf-4d07-b549-79794695ace1",
   "metadata": {},
   "outputs": [],
   "source": [
    "%%lispy\n",
    "(+ 1 1)"
   ]
  },
  {
   "cell_type": "markdown",
   "id": "fe13554f",
   "metadata": {},
   "source": [
    "### Exercício 1\n",
    "\n",
    "Essa é a fórmula para converter temperaturas de Celsius para Fahrenheit:\n",
    "\n",
    "`f = (9 / 5) * c + 32`\n",
    "\n",
    "Eis o código para converter 20°C para °F:"
   ]
  },
  {
   "cell_type": "code",
   "execution_count": null,
   "id": "05ceee6d",
   "metadata": {},
   "outputs": [],
   "source": [
    "%%lispy\n",
    "\n",
    "(define c 20)\n",
    "(+ 32 (* c (/ 9 5)))"
   ]
  },
  {
   "cell_type": "markdown",
   "id": "0befb093",
   "metadata": {},
   "source": [
    "A função inversa é:\n",
    "\n",
    "`c = (f − 32) * 5 / 9`\n",
    "\n",
    "No código abaixo, substitua `(+ 1 2)` pela expressão correta para converter 68°F para °C."
   ]
  },
  {
   "cell_type": "code",
   "execution_count": null,
   "id": "20ce6275",
   "metadata": {},
   "outputs": [],
   "source": [
    "%%lispy\n",
    "\n",
    "(define f 68)\n",
    "(+ 1 2)"
   ]
  },
  {
   "cell_type": "markdown",
   "id": "c1666763",
   "metadata": {},
   "source": [
    "### Exercicio 2\n",
    "\n",
    "O módulo `math` de Python inclui uma função `factorial`, que é incluída ambiente criado por `standard_env()`:"
   ]
  },
  {
   "cell_type": "code",
   "execution_count": null,
   "id": "eba6836a",
   "metadata": {},
   "outputs": [],
   "source": [
    "%%lispy\n",
    "\n",
    "(factorial 10)"
   ]
  },
  {
   "cell_type": "markdown",
   "id": "8d014de3",
   "metadata": {},
   "source": [
    "A linguagem Scheme aceita `!` como um identificador. Sua tarefa é fazer `factorial()` de Python ficar disponível através do símbolo `!` em Scheme.\n",
    "\n",
    "**Passo 2.1** Descomente a expressão abaixo e execute para ver o erro. Veja para a última linha da saída do erro.\n",
    "Qual é o erro? Você entende porque esse é o erro?"
   ]
  },
  {
   "cell_type": "code",
   "execution_count": null,
   "id": "4b5ccecd",
   "metadata": {},
   "outputs": [],
   "source": [
    "# run('(! 10)') == 3628800"
   ]
  },
  {
   "cell_type": "markdown",
   "id": "ce1b6a7d",
   "metadata": {},
   "source": [
    "**Passo 2.2.** Edite a função `standard_env` acima para adicionar uma entrada para `'!'`,\n",
    "mapeando para a função `math.factorial` de Python.\n",
    "\n",
    "**Passo 2.3.** Execute a expressão acima para confirmar que o resultado é `True`."
   ]
  },
  {
   "cell_type": "markdown",
   "id": "b2960604",
   "metadata": {},
   "source": [
    "### Exercício 3\n",
    "\n",
    "Em um Scheme padrão, o operador `+` é variádico, ou seja, aceita qualquer quantidade de argumentos.\n",
    "Com 0 argumentos, `(+)` retorna `0`; caso contrário retorna a soma de todos os argumentos.\n",
    "\n",
    "**Step 3.1.** Descomente a expressão abaixo e execute para ver o erro. O erro faz sentido para você?"
   ]
  },
  {
   "cell_type": "code",
   "execution_count": null,
   "id": "dac36466",
   "metadata": {},
   "outputs": [],
   "source": [
    "# run('(= 10 (+ 1 2 3 4))')"
   ]
  },
  {
   "cell_type": "markdown",
   "id": "9d762b5c",
   "metadata": {},
   "source": [
    "**Passo 3.2.** Edite a função `standard_env` acima para reimplementar o `+`,\n",
    "fazendo a expressão acima devolver `True`.\n",
    "\n",
    "> **DICA 3.2.1**: Escondida abaixo está uma versão variádica do `sum` do Python.\n",
    "Tente resolver o exercício sem revelar a dica.\n",
    "Para revelar o código, descomente a linha do `print()` e execute a célula.\n"
   ]
  },
  {
   "cell_type": "code",
   "execution_count": null,
   "id": "e4a20442",
   "metadata": {},
   "outputs": [],
   "source": [
    "from base64 import b64decode\n",
    "blob = (b'ZGVmIHZhcmlhZGljX3N1bSgqYXJncyk6CiAgICByZXR1cm4g'\n",
    "        b'c3VtKGFyZ3MpCgp2YXJpYWRpY19zdW0oMSwgMiwgMywgNCk=')\n",
    "# print(b64decode(blob).decode('utf8'))"
   ]
  },
  {
   "cell_type": "markdown",
   "id": "b6c4cea4",
   "metadata": {},
   "source": [
    "> **DICA 3.2.2**: A seguir, a mesma função em uma única linha do Python.\n",
    "Tente resolver o exercício sem revelar a dica.\n",
    "Para revelar, descomente a linha do `print()` e execute a célula."
   ]
  },
  {
   "cell_type": "code",
   "execution_count": null,
   "id": "44991053",
   "metadata": {},
   "outputs": [],
   "source": [
    "blob = b'ZiA9IGxhbWJkYSAqYXJnczogc3VtKGFyZ3MpCmYoMSwgMiwgMywgNCk='\n",
    "# print(b64decode(blob).decode('utf8'))"
   ]
  },
  {
   "cell_type": "markdown",
   "id": "d9714458",
   "metadata": {},
   "source": [
    "## Um ambiente mais completo"
   ]
  },
  {
   "cell_type": "markdown",
   "id": "6aeac530",
   "metadata": {},
   "source": [
    "Esta nova versão de `standard_env()` define funções para trabalhar com listas."
   ]
  },
  {
   "cell_type": "code",
   "execution_count": null,
   "id": "90de7483",
   "metadata": {
    "lines_to_next_cell": 1
   },
   "outputs": [],
   "source": [
    "import time\n",
    "\n",
    "def now():\n",
    "    \"\"\"Returns local time as ['HH', 'MM', 'SS']\"\"\"\n",
    "    time_parts = list(time.localtime())[3:6]\n",
    "    return [f'{n:02d}' for n in time_parts]\n",
    "\n",
    "def standard_env() -> Environment:\n",
    "    \"An environment with some Scheme standard procedures.\"\n",
    "    env: Environment = {}\n",
    "    env.update(vars(math))   # sin, cos, sqrt, pi, ...\n",
    "    env.update(\n",
    "        {\n",
    "            '+': op.add,\n",
    "            '-': op.sub,\n",
    "            '*': op.mul,\n",
    "            '/': op.truediv,\n",
    "            'quotient': op.floordiv,\n",
    "            '>': op.gt,\n",
    "            '<': op.lt,\n",
    "            '>=': op.ge,\n",
    "            '<=': op.le,\n",
    "            '=': op.eq,\n",
    "            'abs': abs,\n",
    "            'append': lambda *args: list(chain(*args)),\n",
    "            'apply': lambda proc, args: proc(*args),\n",
    "            'begin': lambda *x: x[-1],\n",
    "            'car': lambda x: x[0],\n",
    "            'cdr': lambda x: x[1:],\n",
    "            'cons': lambda x, y: [x] + y,\n",
    "            'display': lambda x: print(lispstr(x), end=''),\n",
    "            'newline': lambda: print(),\n",
    "            'return': lambda: print(end='\\r', flush=True),\n",
    "            'eq?': op.is_,\n",
    "            'equal?': op.eq,\n",
    "            'filter': lambda *args: list(filter(*args)),\n",
    "            'length': len,\n",
    "            'list': lambda *x: list(x),\n",
    "            'list?': lambda x: isinstance(x, list),\n",
    "            'map': lambda *args: list(map(*args)),\n",
    "            'max': max,\n",
    "            'min': min,\n",
    "            'not': op.not_,\n",
    "            'now': now,\n",
    "            'null?': lambda x: x == [],\n",
    "            'number?': lambda x: isinstance(x, (int, float)),\n",
    "            'procedure?': callable,\n",
    "            'round': round,\n",
    "            'sleep': time.sleep,\n",
    "            'symbol?': lambda x: isinstance(x, Symbol),\n",
    "        }\n",
    "    )\n",
    "    return env"
   ]
  },
  {
   "cell_type": "markdown",
   "id": "f684f54c",
   "metadata": {},
   "source": [
    "A função `(display …)` exibe resultados, mas não emite uma quebra de linha.\n",
    "Para isso é preciso chamar `(newline)` (assim mesmo, sem argumentos).\n",
    "\n",
    "A chamada `(display x)` invoca `lispstr(x)`, que faz o inverso de `parse()`.\n",
    "Dado um objeto Python que representa uma expressão,\n",
    "`lispstr` devolve o código-fonte em Scheme para essa expressão."
   ]
  },
  {
   "cell_type": "code",
   "execution_count": null,
   "id": "afd70034",
   "metadata": {
    "lines_to_next_cell": 1
   },
   "outputs": [],
   "source": [
    "def lispstr(exp: Expression) -> str:\n",
    "    \"Convert a Python object back into a Lisp-readable string.\"\n",
    "    if isinstance(exp, list):\n",
    "        return '(' + ' '.join(map(lispstr, exp)) + ')'\n",
    "    else:\n",
    "        return str(exp)"
   ]
  },
  {
   "cell_type": "markdown",
   "id": "3fe3c8ae",
   "metadata": {},
   "source": [
    "Por exemplo:"
   ]
  },
  {
   "cell_type": "code",
   "execution_count": null,
   "id": "159c7ec3",
   "metadata": {},
   "outputs": [],
   "source": [
    "lispstr(['+', 32, ['*', ['/', 9, 5], 'c']])"
   ]
  },
  {
   "cell_type": "markdown",
   "id": "02c71190",
   "metadata": {
    "lines_to_next_cell": 2
   },
   "source": [
    "## `Procedure`: uma classe que representa uma _closure_\n",
    "\n",
    "A próxima melhoria do `evaluate()` será incluir `(lambda …)` para permitir que\n",
    "usuários definam funções, ou _procedimentos_ no jargão de Scheme.\n",
    "Para implementar `lambda`, precisamos de uma classe que represente um procedimento."
   ]
  },
  {
   "cell_type": "code",
   "execution_count": null,
   "id": "e531bf90",
   "metadata": {},
   "outputs": [],
   "source": [
    "class Procedure:\n",
    "    \"\"\"A user-defined Scheme procedure.\"\"\"\n",
    "\n",
    "    def __init__(self, parms: list[Symbol], body: Expression, env: Environment) -> None:\n",
    "        self.parms = parms\n",
    "        self.body = body\n",
    "        self.env = env\n",
    "\n",
    "    def __call__(self, *args: Expression) -> Any:\n",
    "        local_env = dict(zip(self.parms, args))\n",
    "        env: Environment = ChainMap(local_env, self.env)\n",
    "        return evaluate(self.body, env)"
   ]
  },
  {
   "cell_type": "markdown",
   "id": "e19f32fc",
   "metadata": {},
   "source": [
    "A classe `Procedure` poderia muito bem ser nomeada `Closure`,\n",
    "porque é isso o que ela representa:<br>\n",
    "uma definição de função junto com um ambiente capturado quando a função é definida.\n",
    "\n",
    "Os parâmetros obrigatórios para criar uma `Procedure` são:\n",
    "\n",
    "`parms`: uma lista de símbolos que representam os nomes dos parâmetros da função.\n",
    "A lista pode estar vazia.\n",
    "\n",
    "`body`: o corpo da função como uma expressão que será interpretada quando a função for chamada.\n",
    "\n",
    "`env`: o ambiente onde a função é criada. Isso é o que torna o procedimento uma\n",
    "[*closure*](https://en.wikipedia.org/wiki/Closure_(computer_programming)) ou\n",
    "[*clausura*](https://pt.wikipedia.org/wiki/Clausura_(ci%C3%AAncia_da_computa%C3%A7%C3%A3o))\n",
    "(o termo em PT não é muito usado, mas o\n",
    "[artigo na Wikipédia](https://pt.wikipedia.org/wiki/Clausura_(ci%C3%AAncia_da_computa%C3%A7%C3%A3o)) é bom).\n",
    "\n",
    "O método `__init__` apenas guarda os argumentos recebidos. Nenhum deles é avaliado quando a função é definida.\n",
    "\n",
    "O ambiente `self.env` é usado quando a função é chamada para fornecer os valores de\n",
    "[variáveis não-locais](https://en.wikipedia.org/wiki/Non-local_variable):<br>\n",
    "variáveis que aparecem no corpo da função mas que não são parâmetros ou variáveis locais.\n",
    "\n",
    "Vamos criar uma `Procedure` \"na mão\" para ver como funciona:"
   ]
  },
  {
   "cell_type": "code",
   "execution_count": null,
   "id": "3cd0dd53",
   "metadata": {},
   "outputs": [],
   "source": [
    "dobro = Procedure(['n'], ['*', 'n', 2], standard_env())\n",
    "dobro(4)"
   ]
  },
  {
   "cell_type": "markdown",
   "id": "6fcb6435",
   "metadata": {},
   "source": [
    "## Avaliador com `lambda`, `if` e `quote`\n",
    "\n",
    "Para transformar a calculadora em um subconjunto digno da linguagem Scheme,\n",
    "precisamos permitir funções definidas pelo usuário,\n",
    "condicionais e a instrução `(quote …)` para lidar com expressões\n",
    "como dados ao invés de interpretá-las.\n"
   ]
  },
  {
   "cell_type": "code",
   "execution_count": null,
   "id": "3d14a908",
   "metadata": {},
   "outputs": [],
   "source": [
    "def evaluate(exp: Expression, env: Environment) -> Any:\n",
    "    \"Evaluate an expression in an environment.\"\n",
    "    match exp:\n",
    "        case int(x) | float(x):                             # number literal\n",
    "            return x\n",
    "        case Symbol(var):                                   # variable reference\n",
    "            return env[var]\n",
    "        case ['quote', exp]:                                # (quote exp)\n",
    "            return exp\n",
    "        case ['if', test, consequence, alternative]:        # (if test consequence alternative)\n",
    "            if evaluate(test, env):\n",
    "                return evaluate(consequence, env)\n",
    "            else:\n",
    "                return evaluate(alternative, env)\n",
    "        case ['define', Symbol(var), value_exp]:            # (define var exp)\n",
    "            env[var] = evaluate(value_exp, env)\n",
    "        case ['lambda', [*parms], body]:                    # (lambda (parm...) body)\n",
    "            return Procedure(parms, body, env)\n",
    "        case [op, *args]:                                   # (proc arg...)\n",
    "            proc = evaluate(op, env)                        # here proc can be a function expression\n",
    "            values = (evaluate(arg, env) for arg in args)\n",
    "            return proc(*values)\n",
    "        case _:\n",
    "            raise SyntaxError(lispstr(exp))\n"
   ]
  },
  {
   "cell_type": "markdown",
   "id": "43d6a350",
   "metadata": {},
   "source": [
    "### Avaliar `(lambda (var…) body)`\n",
    "\n",
    "```python\n",
    "        case ['lambda', [*parms], body]:  # (lambda (parm...) body)\n",
    "            return Procedure(parms, body, env)\n",
    "```\n",
    "\n",
    "Se a expressão é uma lista onde o primeiro elemento é a\n",
    "palavra reservada `lambda`,\n",
    "seguida por uma lista de zero ou mais símbolos,\n",
    "e finalmente um `body` formado por uma única expressão,\n",
    "então criamos e devolvemos um objeto `Procedure`.\n",
    "\n",
    "Exemplo:"
   ]
  },
  {
   "cell_type": "code",
   "execution_count": null,
   "id": "43c6b5ef",
   "metadata": {},
   "outputs": [],
   "source": [
    "porcentagem = run('(lambda (a b) (* (/ a b) 100))')\n",
    "porcentagem"
   ]
  },
  {
   "cell_type": "code",
   "execution_count": null,
   "id": "21c64611",
   "metadata": {
    "scrolled": true
   },
   "outputs": [],
   "source": [
    "porcentagem(15, 20)"
   ]
  },
  {
   "cell_type": "markdown",
   "id": "c4ffdaf4",
   "metadata": {},
   "source": [
    "O resultado de `(lambda …)` é uma função anônima,\n",
    "ela não é salva no ambiente. Para criar uma função nomeada,\n",
    "use `lambda` com `define`.\n",
    "\n",
    "> **NOTA**: Essa versão de *lis.py* só aceita uma única expressão como corpo de uma função.\n",
    "  Use `(begin …)` para criar um `body` várias expressões. O resultado da função será o valor da última expressão."
   ]
  },
  {
   "cell_type": "markdown",
   "id": "67760f29",
   "metadata": {},
   "source": [
    "### Avaliar `(quote exp)`\n",
    "\n",
    "```python\n",
    "        case ['quote', exp]:                                # (quote exp)\n",
    "            return exp\n",
    "```\n",
    "\n",
    "Se a expressão for uma `list` onde o primeiro elemento\n",
    "é a palavra reservada `quote` seguida por uma única expressão,\n",
    "devolva a expressão sem interpretá-la.\n",
    "\n",
    "A instrução `quote` permite construir uma lista a partir de uma expressão-S.\n",
    "\n",
    "Exemplos:"
   ]
  },
  {
   "cell_type": "code",
   "execution_count": null,
   "id": "a2c93bc6",
   "metadata": {},
   "outputs": [],
   "source": [
    "run('(quote no-such-name)')  # símbolo não definido, iria causar um erro se fosse interpretado"
   ]
  },
  {
   "cell_type": "code",
   "execution_count": null,
   "id": "777b7fba",
   "metadata": {},
   "outputs": [],
   "source": [
    "run('(quote (99 bottles of beer))')  # 99 não é o nome de uma função ou palavra reservada"
   ]
  },
  {
   "cell_type": "code",
   "execution_count": null,
   "id": "0f01e4bd",
   "metadata": {},
   "outputs": [],
   "source": [
    "run('(quote (/ 10 0))')  # se interpretada, a expressão causaria uma exceção de divisão por zero"
   ]
  },
  {
   "cell_type": "markdown",
   "id": "f64c09d7",
   "metadata": {},
   "source": [
    "### Avaliar `(if test consequence alternative)`\n",
    "\n",
    "```python\n",
    "        case ['if', test, consequence, alternative]:        # (if test consequence alternative)\n",
    "            if evaluate(test, env):\n",
    "                return evaluate(consequence, env)\n",
    "            else:\n",
    "                return evaluate(alternative, env)\n",
    "```\n",
    "\n",
    "Se a expressão é uma `list` onde o primeiro elemento é a palavra reservada `if`,\n",
    "seguida por exatamente três expressões, avalie a expressão `test`.\n",
    "Se o resultado é `True`, avalie `consequence` devolva seu valor;\n",
    "caso contrário, avalie `alternative` e devolva seu valor.\n",
    "\n",
    "Exemplos:"
   ]
  },
  {
   "cell_type": "code",
   "execution_count": null,
   "id": "ce804e33",
   "metadata": {},
   "outputs": [],
   "source": [
    "run('(if (= 3 3) 1 0)')"
   ]
  },
  {
   "cell_type": "code",
   "execution_count": null,
   "id": "bc41d0a7",
   "metadata": {},
   "outputs": [],
   "source": [
    "run('(if (= 3 30) 1 0)')"
   ]
  },
  {
   "cell_type": "code",
   "execution_count": null,
   "id": "3b24727d",
   "metadata": {},
   "outputs": [],
   "source": [
    "%%lispy\n",
    "\n",
    "(define avaliar\n",
    "    (lambda (nota)\n",
    "        (if (>= nota 5)\n",
    "            (quote PASSOU)\n",
    "            (quote NÃO-PASSOU))))\n",
    "(avaliar 7)"
   ]
  },
  {
   "cell_type": "markdown",
   "id": "6cb00751",
   "metadata": {},
   "source": [
    "## Exemplos"
   ]
  },
  {
   "cell_type": "markdown",
   "id": "d843aae3",
   "metadata": {},
   "source": [
    "### Máximo divisor comum\n",
    "\n",
    "O [algoritmo de Euclides](https://pt.wikipedia.org/wiki/Algoritmo_de_Euclides)."
   ]
  },
  {
   "cell_type": "code",
   "execution_count": null,
   "id": "9a0bfc37",
   "metadata": {},
   "outputs": [],
   "source": [
    "%%lispy\n",
    "\n",
    "(define resto (lambda (m n)\n",
    "    (- m (* n (quotient m n)))))\n",
    "\n",
    "(define mdc (lambda (m n)\n",
    "    (if (= n 0)\n",
    "        m\n",
    "        (mdc n (resto m n)))))\n",
    "\n",
    "(mdc 18 45)\n"
   ]
  },
  {
   "cell_type": "markdown",
   "id": "32ba57e7",
   "metadata": {},
   "source": [
    "> **NOTA**: Este exemplo usa `lambda` dentro de `define` em vez da sintaxe abreviada com `define`\n",
    "ilustrada na função `mdc` em [Sintaxe de Scheme](#Sintaxe-de-Scheme).\n",
    "Leia mais sobre essa sintaxe abreviada em [Açúcar Sintático](Açúcar-Sintático)."
   ]
  },
  {
   "cell_type": "markdown",
   "id": "ae4f114f-39a7-4515-ae1c-75091400d20e",
   "metadata": {},
   "source": [
    "### Relógio"
   ]
  },
  {
   "cell_type": "code",
   "execution_count": null,
   "id": "2129053b-2d55-40bb-813e-e1a7b33a7a99",
   "metadata": {},
   "outputs": [],
   "source": [
    "%%lispy\n",
    "\n",
    "(display (now))"
   ]
  },
  {
   "cell_type": "code",
   "execution_count": null,
   "id": "f67a19bc-8f18-407a-a26b-6ac94266aa92",
   "metadata": {},
   "outputs": [],
   "source": [
    "%%lispy\n",
    "\n",
    "(define clock (lambda ()\n",
    "    (begin\n",
    "        (display (car (now)))\n",
    "        (display (quote :))\n",
    "        (display (car (cdr (now))))\n",
    "        (display (quote :))\n",
    "        (display (car (cdr (cdr (now)))))\n",
    "        (sleep 1)\n",
    "        (return)\n",
    "        (clock))))\n",
    "\n",
    "(if 0 (clock) 0)"
   ]
  },
  {
   "cell_type": "markdown",
   "id": "ff3885b1",
   "metadata": {},
   "source": [
    "### Fatorial recursivo simples"
   ]
  },
  {
   "cell_type": "code",
   "execution_count": null,
   "id": "4936381c",
   "metadata": {},
   "outputs": [],
   "source": [
    "%%lispy\n",
    "\n",
    "(define ! (lambda (n)\n",
    "    (if (< n 2)\n",
    "        1\n",
    "        (* n (! (- n 1)))\n",
    ")))\n",
    "\n",
    "(! 5)"
   ]
  },
  {
   "cell_type": "markdown",
   "id": "597505d6",
   "metadata": {},
   "source": [
    "### Fatorial com recursão de cauda"
   ]
  },
  {
   "cell_type": "code",
   "execution_count": null,
   "id": "29fa18f1",
   "metadata": {},
   "outputs": [],
   "source": [
    "fatorial_scm = '''\n",
    "(define ! (lambda (n)\n",
    "    (fatorial-iter n 1)))\n",
    "\n",
    "(define fatorial-iter\n",
    "    (lambda (n produto)\n",
    "        (if (= n 1)\n",
    "            produto\n",
    "            (fatorial-iter (- n 1) (* n produto))\n",
    "        )\n",
    "    )\n",
    ")\n",
    "\n",
    "(! 5)\n",
    "'''\n",
    "run(fatorial_scm)"
   ]
  },
  {
   "cell_type": "markdown",
   "id": "6f404b23",
   "metadata": {},
   "source": [
    "Na função `fatorial-iter`,\n",
    "a chamada recursiva é devolvida como resultado diretamente.\n",
    "Isso é denominado uma _recursão de cauda_,\n",
    "um caso particular de _chamada de cauda_ ou [*tail call*](https://en.wikipedia.org/wiki/Tail_call),\n",
    "quando a última operação no caminho de execução de uma função é\n",
    "devolver o resultado de invocar outra função (ou própria, no caso de recursão).\n",
    "\n",
    "Em contraste, o [Fatorial recursivo simples](#Fatorial-recursivo-simples)\n",
    "não é um exemplo de recursão de cauda:\n",
    "o resultado da chamada recursiva é multiplicado por `n` antes de ser devolvido.\n",
    "\n",
    "O sufixo `-iter` é comumente usado em Scheme para funções que fazem iteração por recursão de cauda.\n",
    "É comum que tais funções utilizem um parâmetro acumulador,\n",
    "que vai gradualmente acumulando resultados parciais.\n",
    "Em `fatorial-iter`, o parâmetro `produto` é o acumulador.\n",
    "\n",
    "> **NOTA**: *lis.py* não implementa chamadas de cauda eficientes, um recurso conhecido em inglês como _proper tail call_ (PTC) ou _tail call optimization_ (TCO), conforme o autor.\n",
    "Portanto, não há vantagem em fazer recursão de cauda. Porém\n",
    "[*lispy.py*](https://github.com/norvig/pytudes/blob/main/py/lispy.py) e\n",
    "[`mylis_2`](https://github.com/fluentpython/lispy/blob/main/mylis/mylis_2/lis.py)\n",
    "implementam PTC, o que significa que nesses interpretadores uma recursão de cauda não faz a pilha crescer a cada iteração."
   ]
  },
  {
   "cell_type": "markdown",
   "id": "dfa143ac",
   "metadata": {},
   "source": [
    "### Raiz quadrada por aproximação\n",
    "\n",
    "O [método babilônio](https://en.wikipedia.org/wiki/Methods_of_computing_square_roots#Babylonian_method),\n",
    "um algoritmo para calcular raiz quadrada usado desde a antiguidade.\n",
    "É um caso especial do\n",
    "[Método de Newton–Raphson](https://pt.wikipedia.org/wiki/M%C3%A9todo_de_Newton%E2%80%93Raphson)\n",
    "para calcular raízes de funções.\n",
    "Adaptei o código abaixo de um\n",
    "[exemplo](https://mitpress.mit.edu/sites/default/files/sicp/full-text/sicp/book/node12.html)\n",
    "do livro clássico *Structure and Interpretation of Computer Programs*."
   ]
  },
  {
   "cell_type": "code",
   "execution_count": null,
   "id": "8ce357ba",
   "metadata": {},
   "outputs": [],
   "source": [
    "%%lispy\n",
    "\n",
    "(define raiz2 (lambda (x)\n",
    "    (raiz2-iter 1.0 x)))\n",
    "\n",
    "(define raiz2-iter (lambda (chute x)\n",
    "    (if (aproximado? chute x)\n",
    "        chute\n",
    "        (raiz2-iter (melhorar chute x) x))))\n",
    "\n",
    "(define aproximado? (lambda (chute x)\n",
    "    (< (abs (- (* chute chute) x)) 0.001)))\n",
    "\n",
    "(define melhorar (lambda (chute x)\n",
    "    (média chute (/ x chute))))\n",
    "\n",
    "(define média (lambda (x y)\n",
    "    (/ (+ x y) 2)))\n",
    "\n",
    "(raiz2 12345654321)"
   ]
  },
  {
   "cell_type": "markdown",
   "id": "bd58f945",
   "metadata": {},
   "source": [
    "### Média de uma lista de números\n",
    "\n",
    "Um exemplo simples com operações de manipulação de lista: `null?`, `car`, `cdr`, `list`."
   ]
  },
  {
   "cell_type": "code",
   "execution_count": null,
   "id": "43385ffe",
   "metadata": {},
   "outputs": [],
   "source": [
    "%%lispy\n",
    "\n",
    "(define média (lambda (lista)\n",
    "    (média-iter lista 0 0)))\n",
    "\n",
    "(define média-iter (lambda (lista contador soma)\n",
    "    (if (null? lista)\n",
    "        (/ soma contador)\n",
    "        (média-iter (cdr lista) (+ contador 1) (+ soma (car lista))))))\n",
    "\n",
    "(média (list 1 2 3 4))"
   ]
  },
  {
   "cell_type": "markdown",
   "id": "29b8519f",
   "metadata": {},
   "source": [
    "### Quicksort\n",
    "\n",
    "O [algoritmo recursivo de ordenação](https://pt.wikipedia.org/wiki/Quicksort) eficiente e elegante inventado por Tony Hoare.\n",
    "\n",
    "Note as funções `append` e `filter` que operam com listas.\n",
    "Confira em `standard_env()` que\n",
    "o comportamento de `append` em Scheme é criar uma nova lista concatenando listas.\n",
    "É mais parecido com `l1 + l2` em Python, e bem diferente de fazer `l1.append(l2)`."
   ]
  },
  {
   "cell_type": "code",
   "execution_count": null,
   "id": "ec2edbcd",
   "metadata": {},
   "outputs": [],
   "source": [
    "quicksort_scm = \"\"\"\n",
    "(define quicksort (lambda (lst)\n",
    "    (if (null? lst)\n",
    "        lst\n",
    "        (begin\n",
    "            (define pivô (car lst))\n",
    "            (define resto (cdr lst))\n",
    "            (append\n",
    "                (quicksort\n",
    "                    (filter (lambda (x) (< x pivô)) resto))\n",
    "                (list pivô)\n",
    "                (quicksort\n",
    "                    (filter (lambda (x) (>= x pivô)) resto)))\n",
    "))))\n",
    "\n",
    "(display (quicksort (list 2 1 6 3 4 0 8 9 7 5)))\n",
    "(newline)\n",
    "\"\"\"\n",
    "run(quicksort_scm)"
   ]
  },
  {
   "cell_type": "markdown",
   "id": "5c84ca9b",
   "metadata": {},
   "source": [
    "> **NOTA**: o código acima funciona em *lis.py*, mas não em Scheme padrão.\n",
    "A forma `define` não pode ser usada naquele contexto em Scheme padrão;\n",
    "em vez dela, usaríamos a forma `let`—que não existe em *lis.py*.\n",
    "O funcionamento de `define` em *lis.py* é uma simplificação feita por Norvig,\n",
    "imitando a semântica de atribuições em Python.\n",
    "Quando `define` ocorre no nível global, é criada ou atualizada uma variável no ambiente global.\n",
    "No corpo de uma função, `define` cria ou atualiza uma variável\n",
    "no primeiro dicionário do `ChainMap` que define o ambiente local."
   ]
  },
  {
   "cell_type": "markdown",
   "id": "374d9b8b",
   "metadata": {},
   "source": [
    "## Açúcar Sintático\n",
    "\n",
    "Por padrão, Scheme tem uma sintaxe alternativa para `define` que permite definir funções nomeadas\n",
    "sem usar a palavra reservada `lambda`.\n",
    "\n",
    "A sintaxe é: `(define (name params…) body…)`, onde:\n",
    "\n",
    "`name`: é o nome da função a ser definida (um `Symbol`);\n",
    "\n",
    "`params…`: zero ou mais símbolos declarando o nome dos parâmetros;\n",
    "\n",
    "`body…`: uma ou mais expressões para serem usadas como o corpo da função.\n",
    "\n",
    "Isso é um exemplo de _açúcar sintático_:\n",
    "uma sintaxe nova que não adiciona nenhuma funcionalidade à linguagem,\n",
    "mas facilita o uso dela, tornando-a mais conveniente.\n",
    "\n",
    "A versão de `mdc` apresentada na seção [Sintaxe de Scheme](#Sintaxe-de-Scheme)\n",
    "usa esse atalho sintático.\n",
    "\n",
    "### Trabalho de conclusão\n",
    "\n",
    "Valide seu entendimento do *lis.py* modificando a função `evaluate()`\n",
    "para permitir o atalho sintático `define` para funções nomeadas.<br>\n",
    "Teste sua solução rodando o exemplo abaixo. O resultado deve ser `9`.\n"
   ]
  },
  {
   "cell_type": "code",
   "execution_count": null,
   "id": "3adeb3bb",
   "metadata": {},
   "outputs": [],
   "source": [
    "mdc2_scm = '''\n",
    "(define (resto m n)\n",
    "    (- m (* n (quotient m n))))\n",
    "\n",
    "(define (mdc m n)\n",
    "    (if (= n 0)\n",
    "        m\n",
    "        (mdc n (resto m n))))\n",
    "\n",
    "(mdc 18 45)\n",
    "'''\n",
    "run(mdc2_scm)"
   ]
  },
  {
   "cell_type": "markdown",
   "id": "d46c4277",
   "metadata": {},
   "source": [
    "## Fim"
   ]
  },
  {
   "cell_type": "markdown",
   "id": "38893d88",
   "metadata": {},
   "source": [
    "Parabéns por ter chegado até aqui!\n",
    "\n",
    "A célula a seguir torna mais fácil verificar que nenhuma célula acima está levantando uma exceção."
   ]
  },
  {
   "cell_type": "code",
   "execution_count": null,
   "id": "e873d5c6",
   "metadata": {},
   "outputs": [],
   "source": [
    "run('(display (quote (Este é o lis.py de Norvig))) (newline)')"
   ]
  },
  {
   "cell_type": "markdown",
   "id": "db95fb7f-4ea8-4700-9e2b-73d5d3888078",
   "metadata": {},
   "source": [
    "# Material Extra"
   ]
  },
  {
   "cell_type": "markdown",
   "id": "5d5443da-1300-4497-8045-2318572b6fe7",
   "metadata": {},
   "source": [
    "## O REPL\n",
    "\n",
    "O REPL (Read-Eval-Print-Loop) de Norvig é fácil de entender porém não é\n",
    "muito amigavél.\n",
    "A função `repl()` exibe um prompt `lis.py>`,\n",
    "e nele devemos digitar expressões corretas e completas;\n",
    "se esquecermos de fechar um parêntesis o _lis.py_ irá quebrar.\n",
    "\n",
    "> **DICA**: O `repl()` não funciona bem dentro do Jupyter Notebook.\n",
    "  É melhor experimentá-lo executando o arquivo _lispy.py_ como um script:<br>\n",
    "  `$ python3 norvigs-lispy.py`"
   ]
  },
  {
   "cell_type": "code",
   "execution_count": null,
   "id": "1b16699d",
   "metadata": {},
   "outputs": [],
   "source": [
    "def repl(prompt: str = 'lis.py> ') -> NoReturn:\n",
    "    \"A prompt-read-evaluate-print loop.\"\n",
    "    global_env: Environment = ChainMap({}, standard_env())\n",
    "    while True:\n",
    "        val = evaluate(parse(input(prompt)), global_env)\n",
    "        if val is not None:\n",
    "            print(lispstr(val))\n",
    "\n",
    "if __name__ == '__main__' and '__file__' in globals():\n",
    "    import readline  # activate readline\n",
    "    repl()"
   ]
  },
  {
   "cell_type": "markdown",
   "id": "b34a6420-d8dc-472e-9218-498d3b5918ce",
   "metadata": {},
   "source": [
    "A função `repl()` chama a função `standard_env()` para instalar funções essenciais no ambiente global,\n",
    "então entra em um loop infinito lendo e fazendo o parse de cada linha digitada pelo usuário,\n",
    "interpretando cada linha no ambiente global, e mostrando o resultado—exceto quando é `None`.\n",
    "A variável `global_env` pode ser modificada pela função `evaluate()`\n",
    "quando se usa `(define …)` no escopo global."
   ]
  },
  {
   "cell_type": "markdown",
   "id": "e523fd85-6b6c-43d3-aafe-8a6800a9a9fb",
   "metadata": {
    "lines_to_next_cell": 2
   },
   "source": [
    "> **NOTA**: Quando estudei os scripts _lis.py_ e _lispy.py_ feitos por Norvig,\n",
    "  criei um fork chamado [`mylis`](https://github.com/fluentpython/lispy/blob/main/mylis)\n",
    "  com algumas funcionalidades a mais,\n",
    "  como um REPL que aceita expressões parciais que podem ser continuadas nas próximas linhas,\n",
    "  semelhante ao REPL de Python que sabe que não terminamos e nos apresenta um segundo prompt\n",
    "  `...` até que entremos um expressão ou instrução completa que possa ser interpretada.\n",
    "  `mylis` também consegue tratar alguns erros um pouco melhor, porém ainda é fácil de quebrar."
   ]
  }
 ],
 "metadata": {
  "jupytext": {
   "encoding": "# -*- coding: utf-8 -*-"
  },
  "kernelspec": {
   "display_name": "Python 3 (ipykernel)",
   "language": "python",
   "name": "python3"
  },
  "language_info": {
   "codemirror_mode": {
    "name": "ipython",
    "version": 3
   },
   "file_extension": ".py",
   "mimetype": "text/x-python",
   "name": "python",
   "nbconvert_exporter": "python",
   "pygments_lexer": "ipython3",
   "version": "3.12.2"
  },
  "vscode": {
   "interpreter": {
    "hash": "aee8b7b246df8f9039afb4144a1f6fd8d2ca17a180786b69acc140d282b71a49"
   }
  }
 },
 "nbformat": 4,
 "nbformat_minor": 5
}
